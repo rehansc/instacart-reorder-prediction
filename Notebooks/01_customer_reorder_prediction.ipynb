{
 "cells": [
  {
   "cell_type": "code",
   "execution_count": null,
   "id": "f731551c",
   "metadata": {},
   "outputs": [],
   "source": [
    "# Customer Reorder Prediction - Instacart Data Science Project\n",
    "# Goal: Predict if a customer will reorder a product (binary classification)\n",
    "\n",
    "import pandas as pd\n",
    "import numpy as np\n",
    "import matplotlib.pyplot as plt\n",
    "import seaborn as sns\n",
    "from sklearn.model_selection import train_test_split\n",
    "from sklearn.linear_model import LogisticRegression\n",
    "from sklearn.metrics import accuracy_score, classification_report, confusion_matrix\n"
   ]
  },
  {
   "cell_type": "code",
   "execution_count": null,
   "id": "355cfe1d",
   "metadata": {},
   "outputs": [
    {
     "name": "stdout",
     "output_type": "stream",
     "text": [
      "Data Loaded Successfully\n",
      "Orders shape: (3421083, 7)\n",
      "Products shape: (49688, 4)\n",
      "Order Products Train shape: (1384617, 4)\n",
      "order_products_prior shape: (32434489, 4)\n"
     ]
    }
   ],
   "source": [
    "# 2. load data\n",
    "orders = pd.read_csv('c:/instacart-customer-analytics/Data/orders.csv')\n",
    "products = pd.read_csv('c:/instacart-customer-analytics/data/products.csv')\n",
    "order_products_train = pd.read_csv('c:/instacart-customer-analytics/data/order_products_train.csv')\n",
    "order_products_prior = pd.read_csv('c:/instacart-customer-analytics/data/order_products_prior.csv')\n",
    "\n",
    "print(\"Data Loaded Successfully\")\n",
    "print(f\"Orders shape: {orders.shape}\")\n",
    "print(f\"Products shape: {products.shape}\")\n",
    "print(f\"Order Products Train shape: {order_products_train.shape}\")\n",
    "print(f\"order_products_prior shape: {order_products_prior.shape}\")"
   ]
  },
  {
   "cell_type": "code",
   "execution_count": 26,
   "id": "0c3583db",
   "metadata": {},
   "outputs": [
    {
     "name": "stdout",
     "output_type": "stream",
     "text": [
      "=== ORDERS TABLE ===\n",
      "\n",
      "Unique customers: 206209\n",
      "Total orders: 3421083\n",
      "\n",
      "=== PRODUCTS TABLE ===\n",
      "\n",
      "Total products: 49688\n",
      "\n",
      "=== ORDER PRODUCTS TRAIN TABLE ===\n",
      "\n",
      "Total purchase records: 1384617\n",
      "\n",
      "=== ORDER PRODUCTS PRIOR TABLE ===\n",
      "\n",
      "Total prior purchase records: 32434489\n",
      "reordered\n",
      "1    828824\n",
      "0    555793\n",
      "Name: count, dtype: int64\n"
     ]
    }
   ],
   "source": [
    "# Step 3: Explore the data structure\n",
    "print(\"=== ORDERS TABLE ===\")\n",
    "#print(orders.head())\n",
    "print(f\"\\nUnique customers: {orders['user_id'].nunique()}\")\n",
    "print(f\"Total orders: {len(orders)}\")\n",
    "\n",
    "print(\"\\n=== PRODUCTS TABLE ===\")\n",
    "#print(products.head())\n",
    "print(f\"\\nTotal products: {len(products)}\")\n",
    "\n",
    "print(\"\\n=== ORDER PRODUCTS TRAIN TABLE ===\")\n",
    "#print(order_products_train.head())\n",
    "print(f\"\\nTotal purchase records: {len(order_products_train)}\")\n",
    "\n",
    "print(\"\\n=== ORDER PRODUCTS PRIOR TABLE ===\")\n",
    "#print(order_products_prior.head())\n",
    "print(f\"\\nTotal prior purchase records: {len(order_products_prior)}\")\n",
    "\n",
    "# Key insight: The 'reordered' column in order_products_train is our target variable!\n",
    "#print(f\"\\nReorder distribution in training data:\")\n",
    "print(order_products_train['reordered'].value_counts())"
   ]
  },
  {
   "cell_type": "markdown",
   "id": "9657bb2f",
   "metadata": {},
   "source": [
    "Dataset Overview:\n",
    "\n",
    "206,209 unique customers - substantial customer base for analysis\n",
    "\n",
    "Total reorder records: 1,384,617 (828,824 + 555,793)\n",
    "\n",
    "Reorder rate: 59.8% (828,824/1,384,617) - customers DO reorder frequently!\n",
    "\n",
    "Key Business Insight: Nearly 60% reorder rate shows Instacart has strong customer loyalty"
   ]
  },
  {
   "cell_type": "code",
   "execution_count": 32,
   "id": "db488d3c",
   "metadata": {},
   "outputs": [
    {
     "name": "stdout",
     "output_type": "stream",
     "text": [
      "Building customer features...\n",
      "Customer features created.\n",
      "   user_id  total_orders  unique_products  avg_cart_position  reorder_rate  \\\n",
      "0        1            10               18           3.627119      0.694915   \n",
      "1        2            14              102           8.553846      0.476923   \n",
      "2        3            12               33           4.443182      0.625000   \n",
      "3        4             5               17           2.777778      0.055556   \n",
      "4        5             4               23           5.513514      0.378378   \n",
      "\n",
      "   avg_days_between_orders  most_common_order_day  avg_order_hour  \n",
      "0                20.259259                      4       10.542373  \n",
      "1                15.967033                      2       10.441026  \n",
      "2                11.487179                      0       16.352273  \n",
      "3                15.357143                      4       13.111111  \n",
      "4                14.500000                      3       15.729730  \n",
      "Faeture for 206209 customers\n"
     ]
    }
   ],
   "source": [
    "# First, let's merge the data to get customer behavior\n",
    "print(\"Building customer features...\")\n",
    "\n",
    "# Combine prior orders with order details\n",
    "prior_data = order_products_prior.merge(orders, on='order_id', how='left')\n",
    "\n",
    "# Create customer-level features from historical data\n",
    "customer_features = prior_data.groupby('user_id').agg({\n",
    "    'order_id': 'nunique',  # How many orders has this customer placed?\n",
    "    'product_id': 'nunique',  # How many different products?\n",
    "    'add_to_cart_order': 'mean',  # Average position in cart\n",
    "    'reordered': 'mean',  # Historical reorder rate for this customer\n",
    "    'days_since_prior_order': 'mean',  # How frequently do they shop?\n",
    "    'order_dow': lambda x: x.mode().iloc[0] if len(x.mode()) > 0 else x.iloc[0],  # What day do they usually shop?\n",
    "    'order_hour_of_day': 'mean'  # What time do they usually shop?\n",
    "}).reset_index()\n",
    "\n",
    "# Rename columns for clarity\n",
    "customer_features.columns = ['user_id', 'total_orders', 'unique_products', 'avg_cart_position', 'reorder_rate', 'avg_days_between_orders', 'most_common_order_day', 'avg_order_hour']   \n",
    "print(\"Customer features created.\")\n",
    "print(customer_features.head())\n",
    "print(f\"Faeture for {len(customer_features)} customers\")\n",
    "\n"
   ]
  },
  {
   "cell_type": "markdown",
   "id": "eeb85cb9",
   "metadata": {},
   "source": [
    "Customer Behavior Features:\n",
    "\n",
    "total_orders: Customer loyalty indicator (user 1 has 10 orders, user 2 has 14)\n",
    "\n",
    "unique_products: Shopping diversity (user 2 bought 102 different products!)\n",
    "\n",
    "avg_cart_position: Shopping behavior pattern\n",
    "\n",
    "historical_reorder_rate: Past reordering tendency (user 1: 69.5%, user 4: only 5.6%)\n",
    "\n",
    "avg_days_between_orders: Shopping frequency (every 15-20 days on average)\n",
    "\n",
    "preferred_day: Shopping day preference (0=Sunday, 4=Thursday)\n",
    "\n",
    "avg_order_hour: Time preference (mostly 10-16 hours = 10 AM - 4 PM)"
   ]
  },
  {
   "cell_type": "code",
   "execution_count": 40,
   "id": "889fdfe6",
   "metadata": {},
   "outputs": [
    {
     "name": "stdout",
     "output_type": "stream",
     "text": [
      "Preparing training data...\n",
      "Training data prepared!\n",
      "Features shape: (1384617, 7)\n",
      "Target shape: (1384617,)\n",
      "Missing values in X: 0\n",
      "Missing values in y: 0\n",
      "\n",
      "Feature statistics:\n",
      "       total_orders  unique_products  avg_cart_position  reorder_rate  \\\n",
      "count  1.384617e+06     1.384617e+06       1.384617e+06  1.384617e+06   \n",
      "mean   1.609141e+01     8.141479e+01       8.107270e+00  4.472134e-01   \n",
      "std    1.661404e+01     6.259861e+01       3.767081e+00  2.084369e-01   \n",
      "min    3.000000e+00     1.000000e+00       1.000000e+00  0.000000e+00   \n",
      "25%    5.000000e+00     3.700000e+01       5.434343e+00  2.857143e-01   \n",
      "50%    1.000000e+01     6.400000e+01       7.517647e+00  4.470588e-01   \n",
      "75%    2.000000e+01     1.080000e+02       1.012931e+01  6.095718e-01   \n",
      "max    9.900000e+01     7.260000e+02       3.977580e+01  9.895288e-01   \n",
      "\n",
      "       avg_days_between_orders  most_common_order_day  avg_order_hour  \n",
      "count             1.384617e+06           1.384617e+06    1.384617e+06  \n",
      "mean              1.537112e+01           2.460649e+00    1.358751e+01  \n",
      "std               7.043908e+00           2.177829e+00    2.178539e+00  \n",
      "min               0.000000e+00           0.000000e+00    0.000000e+00  \n",
      "25%               9.564460e+00           0.000000e+00    1.217647e+01  \n",
      "50%               1.460000e+01           2.000000e+00    1.356397e+01  \n",
      "75%               2.048454e+01           5.000000e+00    1.497468e+01  \n",
      "max               3.000000e+01           6.000000e+00    2.285294e+01  \n"
     ]
    }
   ],
   "source": [
    "# Get training data with user features\n",
    "train_data = order_products_train.merge(orders, on='order_id', how='left')\n",
    "train_data = train_data.merge(customer_features, on='user_id', how='left')\n",
    "\n",
    "# Step 5: Prepare training data (with correct column names)\n",
    "print(\"Preparing training data...\")\n",
    "\n",
    "# We already have the merged data, so let's use the correct feature columns\n",
    "feature_columns = ['total_orders', 'unique_products', 'avg_cart_position', \n",
    "                  'reorder_rate', 'avg_days_between_orders', \n",
    "                  'most_common_order_day', 'avg_order_hour']\n",
    "\n",
    "# Prepare X (features) and y (target) \n",
    "X = train_data[feature_columns].fillna(0)  # Handle any missing values\n",
    "y = train_data['reordered']  # This is our target from order_products_train\n",
    "\n",
    "print(f\"Training data prepared!\")\n",
    "print(f\"Features shape: {X.shape}\")\n",
    "print(f\"Target shape: {y.shape}\")\n",
    "print(f\"Missing values in X: {X.isnull().sum().sum()}\")\n",
    "print(f\"Missing values in y: {y.isnull().sum()}\")\n",
    "\n",
    "# Quick look at our features\n",
    "print(f\"\\nFeature statistics:\")\n",
    "print(X.describe())"
   ]
  },
  {
   "cell_type": "markdown",
   "id": "b093f673",
   "metadata": {},
   "source": [
    "Dataset Summary:\n",
    "\n",
    "1.38M training examples - substantial dataset for reliable model training\n",
    "\n",
    "7 customer behavior features - good feature set for logistic regression\n",
    "\n",
    "No missing values - clean data ready for modeling\n",
    "\n",
    "Balanced features - good range of customer behaviors\n",
    "\n",
    "Key Business Insights from the features:\n",
    "\n",
    "Average customer places 16 orders and buys 81 unique products\n",
    "\n",
    "44.7% historical reorder rate - customers DO repeat purchases\n",
    "\n",
    "Customers shop every 15 days on average\n",
    "\n",
    "Peak shopping: Tuesday (2) at 1:30 PM (13.6 hours)\n",
    "\n",
    "Now let's build our first model - Andrew Ng style!"
   ]
  },
  {
   "cell_type": "code",
   "execution_count": 41,
   "id": "f39af36b",
   "metadata": {},
   "outputs": [
    {
     "name": "stdout",
     "output_type": "stream",
     "text": [
      "Building Logistic Regression model...\n",
      "\n",
      "Model Performance:\n",
      "Accuracy: 0.6650\n",
      "\n",
      "Classification Report:\n",
      "              precision    recall  f1-score   support\n",
      "\n",
      "           0       0.61      0.47      0.53    111266\n",
      "           1       0.69      0.80      0.74    165658\n",
      "\n",
      "    accuracy                           0.67    276924\n",
      "   macro avg       0.65      0.63      0.63    276924\n",
      "weighted avg       0.66      0.67      0.66    276924\n",
      "\n",
      "Model trained successfully!\n"
     ]
    }
   ],
   "source": [
    "# Step 6: Build our first Logistic Regression model\n",
    "from sklearn.model_selection import train_test_split\n",
    "from sklearn.linear_model import LogisticRegression\n",
    "from sklearn.metrics import accuracy_score, classification_report, confusion_matrix\n",
    "\n",
    "print(\"Building Logistic Regression model...\")\n",
    "\n",
    "# Split the data (80/20 split)\n",
    "X_train, X_test, y_train, y_test = train_test_split(X, y, test_size=0.2, random_state=42)\n",
    "\n",
    "# Create and train the model (Andrew Ng Course 1 approach)\n",
    "model = LogisticRegression(random_state=42)\n",
    "model.fit(X_train, y_train)\n",
    "\n",
    "# Make predictions\n",
    "y_pred = model.predict(X_test)\n",
    "\n",
    "# Evaluate the model\n",
    "accuracy = accuracy_score(y_test, y_pred)\n",
    "print(f\"\\nModel Performance:\")\n",
    "print(f\"Accuracy: {accuracy:.4f}\")\n",
    "print(f\"\\nClassification Report:\")\n",
    "print(classification_report(y_test, y_pred))\n",
    "\n",
    "print(\"Model trained successfully!\")"
   ]
  },
  {
   "cell_type": "code",
   "execution_count": 42,
   "id": "58930a21",
   "metadata": {},
   "outputs": [
    {
     "name": "stdout",
     "output_type": "stream",
     "text": [
      "Feature Importance Analysis:\n",
      "========================================\n",
      "Most Important Features for Predicting Reorders:\n",
      "reorder_rate: 3.3648 (increases reorder probability)\n",
      "avg_cart_position: 0.0478 (increases reorder probability)\n",
      "avg_days_between_orders: -0.0063 (decreases reorder probability)\n",
      "avg_order_hour: -0.0051 (decreases reorder probability)\n",
      "total_orders: 0.0049 (increases reorder probability)\n",
      "unique_products: -0.0012 (decreases reorder probability)\n",
      "most_common_order_day: 0.0005 (increases reorder probability)\n"
     ]
    },
    {
     "data": {
      "image/png": "[encoded data removed]",
      "text/plain": [
       "<Figure size 1000x600 with 1 Axes>"
      ]
     },
     "metadata": {},
     "output_type": "display_data"
    }
   ],
   "source": [
    "# Step 7: Feature Importance Analysis\n",
    "print(\"Feature Importance Analysis:\")\n",
    "print(\"=\"*40)\n",
    "\n",
    "# Get feature coefficients (logistic regression weights)\n",
    "feature_importance = pd.DataFrame({\n",
    "    'feature': feature_columns,\n",
    "    'coefficient': model.coef_[0],\n",
    "    'abs_coefficient': np.abs(model.coef_[0])\n",
    "})\n",
    "\n",
    "# Sort by absolute importance\n",
    "feature_importance = feature_importance.sort_values('abs_coefficient', ascending=False)\n",
    "\n",
    "print(\"Most Important Features for Predicting Reorders:\")\n",
    "for idx, row in feature_importance.iterrows():\n",
    "    direction = \"increases\" if row['coefficient'] > 0 else \"decreases\"\n",
    "    print(f\"{row['feature']}: {row['coefficient']:.4f} ({direction} reorder probability)\")\n",
    "\n",
    "# Visualize feature importance\n",
    "plt.figure(figsize=(10, 6))\n",
    "plt.barh(feature_importance['feature'], feature_importance['coefficient'])\n",
    "plt.title('Feature Importance for Reorder Prediction')\n",
    "plt.xlabel('Coefficient Value')\n",
    "plt.tight_layout()\n",
    "plt.show()"
   ]
  },
  {
   "cell_type": "code",
   "execution_count": 43,
   "id": "9176ccfe",
   "metadata": {},
   "outputs": [
    {
     "name": "stdout",
     "output_type": "stream",
     "text": [
      "\n",
      "============================================================\n",
      "INSTACART CUSTOMER REORDER PREDICTION - PROJECT SUMMARY\n",
      "============================================================\n",
      "Dataset: 1384617 customer-product interactions\n",
      "Features: 7 customer behavior metrics\n",
      "Model: Logistic Regression\n",
      "Performance: 66.5% accuracy\n",
      "Business Impact: Predict customer reorder behavior for inventory & marketing\n",
      "Key Insight: Historical reorder rate is strongest predictor of future reorders\n"
     ]
    }
   ],
   "source": [
    "# Step 8: Create Summary for Portfolio\n",
    "print(\"\\n\" + \"=\"*60)\n",
    "print(\"INSTACART CUSTOMER REORDER PREDICTION - PROJECT SUMMARY\")\n",
    "print(\"=\"*60)\n",
    "print(f\"Dataset: {len(X)} customer-product interactions\")\n",
    "print(f\"Features: {len(feature_columns)} customer behavior metrics\")\n",
    "print(f\"Model: Logistic Regression\")\n",
    "print(f\"Performance: {accuracy:.1%} accuracy\")\n",
    "print(f\"Business Impact: Predict customer reorder behavior for inventory & marketing\")\n",
    "print(f\"Key Insight: Historical reorder rate is strongest predictor of future reorders\")"
   ]
  }
 ],
 "metadata": {
  "kernelspec": {
   "display_name": "Python 3",
   "language": "python",
   "name": "python3"
  },
  "language_info": {
   "codemirror_mode": {
    "name": "ipython",
    "version": 3
   },
   "file_extension": ".py",
   "mimetype": "text/x-python",
   "name": "python",
   "nbconvert_exporter": "python",
   "pygments_lexer": "ipython3",
   "version": "3.11.9"
  }
 },
 "nbformat": 4,
 "nbformat_minor": 5
}
